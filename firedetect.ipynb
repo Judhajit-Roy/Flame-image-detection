{
 "cells": [
  {
   "cell_type": "code",
   "execution_count": 25,
   "metadata": {},
   "outputs": [
    {
     "name": "stderr",
     "output_type": "stream",
     "text": [
      "C:\\Users\\Judhajit\\Anaconda3\\lib\\site-packages\\ipykernel_launcher.py:19: UserWarning: Update your `Conv2D` call to the Keras 2 API: `Conv2D(32, (3, 3), input_shape=(64, 64, 3..., activation=\"relu\")`\n",
      "C:\\Users\\Judhajit\\Anaconda3\\lib\\site-packages\\ipykernel_launcher.py:28: UserWarning: Update your `Dense` call to the Keras 2 API: `Dense(activation=\"relu\", units=128)`\n",
      "C:\\Users\\Judhajit\\Anaconda3\\lib\\site-packages\\ipykernel_launcher.py:29: UserWarning: Update your `Dense` call to the Keras 2 API: `Dense(activation=\"sigmoid\", units=1)`\n"
     ]
    }
   ],
   "source": [
    "# -*- coding: utf-8 -*-\n",
    "\"\"\"\n",
    "Created on Mon Apr 15 12:49:03 2019\n",
    "\n",
    "@author: Judhajit\n",
    "\"\"\"\n",
    "\n",
    "#cnn\n",
    "from keras.models import Sequential\n",
    "from keras.layers import Convolution2D\n",
    "from keras.layers import MaxPooling2D\n",
    "from keras.layers import Flatten\n",
    "from keras.layers import Dense\n",
    "\n",
    "#initialize cnn\n",
    "classifier = Sequential()\n",
    "\n",
    "#Step 1 convolution\n",
    "classifier.add(Convolution2D(32, 3, 3 ,input_shape = (64,64,3), activation = 'relu'))\n",
    "\n",
    "#step 2 max pooling\n",
    "classifier.add(MaxPooling2D(pool_size = (2,2))) \n",
    "\n",
    "#step 3 flattening\n",
    "classifier.add(Flatten())\n",
    "\n",
    "#step 4 Full connection\n",
    "classifier.add(Dense(output_dim = 128 , activation = 'relu'))\n",
    "classifier.add(Dense(output_dim = 1 , activation = 'sigmoid'))\n",
    "\n",
    "#compiling the cnn\n",
    "classifier.compile(optimizer = 'adam', loss = 'binary_crossentropy', metrics = ['accuracy'])\n",
    "\n"
   ]
  },
  {
   "cell_type": "code",
   "execution_count": 26,
   "metadata": {},
   "outputs": [
    {
     "name": "stdout",
     "output_type": "stream",
     "text": [
      "Found 490 images belonging to 2 classes.\n",
      "Found 37 images belonging to 2 classes.\n",
      "Epoch 1/3\n",
      "490/490 [==============================] - 447s 912ms/step - loss: 0.1346 - acc: 0.9485 - val_loss: 1.4219 - val_acc: 0.7837\n",
      "Epoch 2/3\n",
      "490/490 [==============================] - 394s 805ms/step - loss: 0.0209 - acc: 0.9940 - val_loss: 1.9023 - val_acc: 0.7556\n",
      "Epoch 3/3\n",
      "490/490 [==============================] - 415s 848ms/step - loss: 0.0090 - acc: 0.9976 - val_loss: 0.9735 - val_acc: 0.8639\n"
     ]
    },
    {
     "data": {
      "text/plain": [
       "<keras.callbacks.History at 0x164c3d48940>"
      ]
     },
     "execution_count": 26,
     "metadata": {},
     "output_type": "execute_result"
    }
   ],
   "source": [
    "#part 2 - fitting the cnn to images\n",
    "from keras.preprocessing.image import ImageDataGenerator\n",
    "\n",
    "train_datagen = ImageDataGenerator(\n",
    "        rescale=1./255,\n",
    "        shear_range=0.2,\n",
    "        zoom_range=0.2,\n",
    "        horizontal_flip=True)\n",
    "\n",
    "test_datagen = ImageDataGenerator(rescale=1./255)\n",
    "\n",
    "training_set = train_datagen.flow_from_directory(\n",
    "        'C:\\\\project\\\\fire data\\\\Fire-Detection-Image-Dataset-master\\\\fireimage',\n",
    "        target_size=(64, 64),\n",
    "        batch_size=32,\n",
    "        class_mode='binary')\n",
    "\n",
    "test_set = test_datagen.flow_from_directory(\n",
    "        'C:\\\\project\\\\fire data\\\\Fire-Detection-Image-Dataset-master\\\\test',\n",
    "        target_size=(64, 64),\n",
    "        batch_size=32,\n",
    "        class_mode='binary')\n",
    "\n",
    "\n",
    "classifier.fit_generator(\n",
    "        training_set,\n",
    "        steps_per_epoch=490,\n",
    "        epochs=3,\n",
    "        validation_data=test_set,\n",
    "        validation_steps=37)"
   ]
  },
  {
   "cell_type": "code",
   "execution_count": 47,
   "metadata": {},
   "outputs": [
    {
     "data": {
      "text/plain": [
       "array([[1]])"
      ]
     },
     "execution_count": 47,
     "metadata": {},
     "output_type": "execute_result"
    }
   ],
   "source": [
    "\n",
    "from keras.preprocessing import image\n",
    "img = image.load_img('C:\\\\project\\\\fire data\\\\Fire-Detection-Image-Dataset-master\\\\n1.jpg',target_size=(64,64))# , target_size=(32,32))\n",
    "img  = image.img_to_array(img)\n",
    "img  = img.reshape((1,) + img.shape)\n",
    "img_class=classifier.predict_classes(img)\n",
    "img_class"
   ]
  },
  {
   "cell_type": "code",
   "execution_count": null,
   "metadata": {},
   "outputs": [],
   "source": []
  }
 ],
 "metadata": {
  "kernelspec": {
   "display_name": "Python 3",
   "language": "python",
   "name": "python3"
  },
  "language_info": {
   "codemirror_mode": {
    "name": "ipython",
    "version": 3
   },
   "file_extension": ".py",
   "mimetype": "text/x-python",
   "name": "python",
   "nbconvert_exporter": "python",
   "pygments_lexer": "ipython3",
   "version": "3.7.3"
  }
 },
 "nbformat": 4,
 "nbformat_minor": 2
}
